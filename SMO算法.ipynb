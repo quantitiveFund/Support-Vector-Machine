{
 "cells": [
  {
   "cell_type": "code",
   "execution_count": 1,
   "id": "37dbba97",
   "metadata": {},
   "outputs": [],
   "source": [
    "import numpy as np\n",
    "import random\n",
    "import matplotlib.pyplot as plt\n",
    "import pandas as pd\n",
    "%matplotlib inline    "
   ]
  },
  {
   "cell_type": "code",
   "execution_count": 2,
   "id": "b6b3eea9",
   "metadata": {},
   "outputs": [
    {
     "data": {
      "text/html": [
       "<div>\n",
       "<style scoped>\n",
       "    .dataframe tbody tr th:only-of-type {\n",
       "        vertical-align: middle;\n",
       "    }\n",
       "\n",
       "    .dataframe tbody tr th {\n",
       "        vertical-align: top;\n",
       "    }\n",
       "\n",
       "    .dataframe thead th {\n",
       "        text-align: right;\n",
       "    }\n",
       "</style>\n",
       "<table border=\"1\" class=\"dataframe\">\n",
       "  <thead>\n",
       "    <tr style=\"text-align: right;\">\n",
       "      <th></th>\n",
       "      <th>factor1</th>\n",
       "      <th>factor2</th>\n",
       "      <th>class</th>\n",
       "    </tr>\n",
       "  </thead>\n",
       "  <tbody>\n",
       "    <tr>\n",
       "      <th>0</th>\n",
       "      <td>3.542485</td>\n",
       "      <td>1.977398</td>\n",
       "      <td>-1</td>\n",
       "    </tr>\n",
       "    <tr>\n",
       "      <th>1</th>\n",
       "      <td>3.018896</td>\n",
       "      <td>2.556416</td>\n",
       "      <td>-1</td>\n",
       "    </tr>\n",
       "    <tr>\n",
       "      <th>2</th>\n",
       "      <td>7.551510</td>\n",
       "      <td>-1.580030</td>\n",
       "      <td>1</td>\n",
       "    </tr>\n",
       "    <tr>\n",
       "      <th>3</th>\n",
       "      <td>2.114999</td>\n",
       "      <td>-0.004466</td>\n",
       "      <td>-1</td>\n",
       "    </tr>\n",
       "    <tr>\n",
       "      <th>4</th>\n",
       "      <td>8.127113</td>\n",
       "      <td>1.274372</td>\n",
       "      <td>1</td>\n",
       "    </tr>\n",
       "  </tbody>\n",
       "</table>\n",
       "</div>"
      ],
      "text/plain": [
       "    factor1   factor2  class\n",
       "0  3.542485  1.977398     -1\n",
       "1  3.018896  2.556416     -1\n",
       "2  7.551510 -1.580030      1\n",
       "3  2.114999 -0.004466     -1\n",
       "4  8.127113  1.274372      1"
      ]
     },
     "execution_count": 2,
     "metadata": {},
     "output_type": "execute_result"
    }
   ],
   "source": [
    "file_name = \"testSet.txt\"\n",
    "file = pd.read_table(file_name,header=None, names=[\"factor1\",\"factor2\",\"class\"])\n",
    "file.head()"
   ]
  },
  {
   "cell_type": "code",
   "execution_count": 3,
   "id": "20b83be5",
   "metadata": {},
   "outputs": [
    {
     "data": {
      "text/plain": [
       "Text(0, 0.5, 'factor2')"
      ]
     },
     "execution_count": 3,
     "metadata": {},
     "output_type": "execute_result"
    },
    {
     "data": {
      "image/png": "[encoded data removed]",
      "text/plain": [
       "<Figure size 720x360 with 1 Axes>"
      ]
     },
     "metadata": {
      "needs_background": "light"
     },
     "output_type": "display_data"
    }
   ],
   "source": [
    "positive = file[file[\"class\"] == 1]\n",
    "negative = file[file[\"class\"] == -1]\n",
    "fig, ax = plt.subplots(figsize=(10,5))\n",
    "ax.scatter(positive[\"factor1\"], positive[\"factor2\"], s=30, c=\"b\", marker=\"o\", label=\"class 1\")\n",
    "ax.scatter(negative[\"factor1\"], negative[\"factor2\"], s=30, c=\"r\", marker=\"x\", label=\"class -1\")\n",
    "ax.legend(loc=\"upper left\")\n",
    "ax.set_xlabel(\"factor1\")\n",
    "ax.set_ylabel(\"factor2\")"
   ]
  },
  {
   "cell_type": "code",
   "execution_count": 4,
   "id": "39c08dff",
   "metadata": {},
   "outputs": [],
   "source": [
    "def load_data_set(file):\n",
    "    orig_data = file.values   \n",
    "    cols = orig_data.shape[1]\n",
    "    data_mat = orig_data[:,0:cols-1]\n",
    "    label_mat = orig_data[:,cols-1:cols]\n",
    "    return data_mat, label_mat\n",
    "data_mat, label_mat = load_data_set(file)"
   ]
  },
  {
   "cell_type": "code",
   "execution_count": 5,
   "id": "03fb3d31",
   "metadata": {},
   "outputs": [],
   "source": [
    "#  给定输入i和m，随机输出一个0到m之间的与i不同的整数\n",
    "def select_jrand(i, m):\n",
    "    j = i\n",
    "    while(j==i):\n",
    "        j = int(random.uniform(0,m))\n",
    "    return j"
   ]
  },
  {
   "cell_type": "code",
   "execution_count": 6,
   "id": "29f7780b",
   "metadata": {},
   "outputs": [],
   "source": [
    "def clip_lambda(lambda_j, H, L):\n",
    "    if lambda_j > H:\n",
    "        lambda_j = H\n",
    "    if L > lambda_j:\n",
    "        lambda_j = L\n",
    "    return lambda_j"
   ]
  },
  {
   "cell_type": "markdown",
   "id": "e810be27",
   "metadata": {},
   "source": [
    "$w^*=\\sum_{i=1}^{N}\\lambda_iy_ix_i$"
   ]
  },
  {
   "cell_type": "code",
   "execution_count": 7,
   "id": "0c7b4048",
   "metadata": {},
   "outputs": [],
   "source": [
    "def smo_simple(data_mat, class_label, C, toler, max_iter):\n",
    "    # 循环外的初始化工作\n",
    "    data_mat = np.mat(data_mat)\n",
    "    label_mat = np.mat(class_label) \n",
    "    b = 0\n",
    "    m,n = np.shape(data_mat)  \n",
    "    lambdas = np.zeros((m,1))    \n",
    "    iter = 0    \n",
    "    while iter < max_iter:\n",
    "        # 内循环的初始化工作\n",
    "        lambda_pairs_changed = 0\n",
    "        for i in range(m):   \n",
    "            # 第一小段代码  \n",
    "            WT_i = np.dot(np.multiply(lambdas, label_mat).T, data_mat)  \n",
    "            g_xi = float(np.dot(WT_i, data_mat[i,:].T)) + b   \n",
    "            Ei = g_xi - float(label_mat[i])    # 误差\n",
    "            if((label_mat[i]*Ei < -toler) and  (lambdas[i] < C)) or \\\n",
    "            ((label_mat[i]*Ei > toler) and (lambdas[i] > 0)):  \n",
    "                j = select_jrand(i, m) \n",
    "                WT_j = np.dot(np.multiply(lambdas, label_mat).T, data_mat)\n",
    "                f_xj = float(np.dot(WT_j, data_mat[j,:].T)) + b    \n",
    "                Ej = f_xj - float(label_mat[j])    \n",
    "                lambda_iold = lambdas[i].copy()\n",
    "                lambda_jold = lambdas[j].copy()\n",
    "\n",
    "               # 第二小段代码\n",
    "                if (label_mat[i] != label_mat[j]):  \n",
    "                    L = max(0, lambdas[j] - lambdas[i])  # \n",
    "                    H = min(C, C + lambdas[j] - lambdas[i])\n",
    "                else:                              \n",
    "                    L = max(0, lambdas[j] + lambdas[i] - C)\n",
    "                    H = min(C, lambdas[j] + lambdas[i])\n",
    "                if H == L :continue\n",
    "\n",
    "                # 第三小段代码\n",
    "                eta = 2.0 * data_mat[i,:]*data_mat[j,:].T - data_mat[i,:]*data_mat[i,:].T - \\\n",
    "                data_mat[j,:]*data_mat[j,:].T\n",
    "                if eta >= 0: \n",
    "                    continue\n",
    "                lambdas[j] = (lambdas[j] - label_mat[j]*(Ei - Ej))/eta\n",
    "                lambdas[j] = clip_lambda(lambdas[j], H, L)   \n",
    "                if (abs(lambdas[j] - lambda_jold) < 0.00001):\n",
    "                    continue\n",
    "\n",
    "\n",
    "                lambdas[i] = lambdas[i] + label_mat[j]*label_mat[i]*(lambda_jold - lambdas[j])\n",
    "\n",
    "                # 第四小段代码\n",
    "                b1 = b - Ei + label_mat[i]*(lambda_iold - lambdas[i])*np.dot(data_mat[i,:], data_mat[i,:].T) +\\\n",
    "                label_mat[j]*(lambda_jold - lambdas[j])*np.dot(data_mat[i,:], data_mat[j,:].T)\n",
    "                b2 = b - Ej + label_mat[i]*(lambda_iold - lambdas[i])*np.dot(data_mat[i,:], data_mat[j,:].T) +\\\n",
    "                label_mat[j]*(lambda_jold - lambdas[j])*np.dot(data_mat[j,:], data_mat[j,:].T)\n",
    "                if (0 < lambdas[i]) and (C > lambdas[i]):\n",
    "                    b = b1\n",
    "                elif (0 < lambdas[j]) and (C > lambdas[j]):\n",
    "                    b = b2\n",
    "                else:\n",
    "                    b = (b1 + b2)/2.0\n",
    "                lambda_pairs_changed += 1\n",
    "        if (lambda_pairs_changed == 0): iter += 1\n",
    "        else: iter = 0\n",
    "    return b, lambdas"
   ]
  },
  {
   "cell_type": "code",
   "execution_count": 8,
   "id": "5d69e3ba",
   "metadata": {},
   "outputs": [
    {
     "name": "stdout",
     "output_type": "stream",
     "text": [
      "[[-2.85590198]] [8.76733944e-02 6.87788495e-03 1.48717743e-01 8.67361738e-19\n",
      " 7.04903052e-02 8.40376340e-02 8.87410834e-02]\n"
     ]
    }
   ],
   "source": [
    "b,lambdas = smo_simple(data_mat, label_mat, 0.6, 0.001, 10)\n",
    "print(b, lambdas[lambdas>0])"
   ]
  },
  {
   "cell_type": "code",
   "execution_count": 9,
   "id": "bb8dce05",
   "metadata": {},
   "outputs": [
    {
     "data": {
      "text/plain": [
       "Text(0, 0.5, 'factor2')"
      ]
     },
     "execution_count": 9,
     "metadata": {},
     "output_type": "execute_result"
    },
    {
     "data": {
      "image/png": "[encoded data removed]",
      "text/plain": [
       "<Figure size 720x360 with 1 Axes>"
      ]
     },
     "metadata": {
      "needs_background": "light"
     },
     "output_type": "display_data"
    }
   ],
   "source": [
    "support_x = []\n",
    "support_y = []\n",
    "class1_x = []\n",
    "class1_y = []\n",
    "class01_x = []\n",
    "class01_y = []\n",
    "for i in range(100):\n",
    "    if lambdas[i] > 0.0:\n",
    "        support_x.append(data_mat[i,0])\n",
    "        support_y.append(data_mat[i,1])        \n",
    "for i in range(100):\n",
    "    if label_mat[i] == 1:\n",
    "        class1_x.append(data_mat[i,0])\n",
    "        class1_y.append(data_mat[i,1])\n",
    "    else:\n",
    "        class01_x.append(data_mat[i,0])\n",
    "        class01_y.append(data_mat[i,1])       \n",
    "w_best = np.dot(np.multiply(lambdas, label_mat).T, data_mat)\n",
    "fig, ax = plt.subplots(figsize=(10,5))\n",
    "ax.scatter(support_x, support_y, s=100, c=\"y\", marker=\"v\", label=\"support_v\")\n",
    "ax.scatter(class1_x, class1_y, s=30, c=\"b\", marker=\"o\", label=\"class 1\")\n",
    "ax.scatter(class01_x, class01_y, s=30, c=\"r\", marker=\"x\", label=\"class -1\")\n",
    "lin_x = np.linspace(3,6)\n",
    "lin_y = (-float(b) - w_best[0,0]*lin_x) / w_best[0,1]\n",
    "plt.plot(lin_x, lin_y, color=\"black\")  \n",
    "ax.legend()\n",
    "ax.set_xlabel(\"factor1\")\n",
    "ax.set_ylabel(\"factor2\")"
   ]
  },
  {
   "cell_type": "code",
   "execution_count": null,
   "id": "cc39b790",
   "metadata": {},
   "outputs": [],
   "source": []
  }
 ],
 "metadata": {
  "kernelspec": {
   "display_name": "Python 3",
   "language": "python",
   "name": "python3"
  },
  "language_info": {
   "codemirror_mode": {
    "name": "ipython",
    "version": 3
   },
   "file_extension": ".py",
   "mimetype": "text/x-python",
   "name": "python",
   "nbconvert_exporter": "python",
   "pygments_lexer": "ipython3",
   "version": "3.8.8"
  },
  "varInspector": {
   "cols": {
    "lenName": 16,
    "lenType": 16,
    "lenVar": 40
   },
   "kernels_config": {
    "python": {
     "delete_cmd_postfix": "",
     "delete_cmd_prefix": "del ",
     "library": "var_list.py",
     "varRefreshCmd": "print(var_dic_list())"
    },
    "r": {
     "delete_cmd_postfix": ") ",
     "delete_cmd_prefix": "rm(",
     "library": "var_list.r",
     "varRefreshCmd": "cat(var_dic_list()) "
    }
   },
   "types_to_exclude": [
    "module",
    "function",
    "builtin_function_or_method",
    "instance",
    "_Feature"
   ],
   "window_display": false
  }
 },
 "nbformat": 4,
 "nbformat_minor": 5
}
